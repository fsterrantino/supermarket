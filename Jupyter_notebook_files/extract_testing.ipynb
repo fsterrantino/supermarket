{
 "cells": [
  {
   "cell_type": "code",
   "execution_count": 57,
   "id": "d5e0eaba-08ab-4278-9a68-5f3d3334083f",
   "metadata": {},
   "outputs": [],
   "source": [
    "import pandas as pd\n",
    "from selenium import webdriver\n",
    "from selenium.webdriver.support.ui import WebDriverWait\n",
    "from selenium.webdriver.support import expected_conditions as EC\n",
    "from selenium.webdriver.common.by import By\n",
    "from selenium.webdriver.common.action_chains import ActionChains"
   ]
  },
  {
   "cell_type": "code",
   "execution_count": 2,
   "id": "9ea71b4a-52f0-45f0-b2c3-7c6069bb14af",
   "metadata": {},
   "outputs": [],
   "source": [
    "def initiate_driver():\n",
    "    driver = webdriver.Chrome()\n",
    "    wait = WebDriverWait(driver, 10)\n",
    "\n",
    "    driver.maximize_window()\n",
    "    \n",
    "    return driver, wait"
   ]
  },
  {
   "cell_type": "code",
   "execution_count": 96,
   "id": "8c2c58b6-c2f3-499b-b878-a6cf818025e7",
   "metadata": {},
   "outputs": [],
   "source": [
    "driver, wait = initiate_driver()"
   ]
  },
  {
   "cell_type": "code",
   "execution_count": 97,
   "id": "fa2d3aa4-8646-461e-b44c-ba66623ad06b",
   "metadata": {},
   "outputs": [],
   "source": [
    "url = f'https://www.jumbo.com.ar/almacen?page=1'\n",
    "driver.get(url)"
   ]
  },
  {
   "cell_type": "code",
   "execution_count": 80,
   "id": "a58a91bc-782b-4169-9270-742c4d38dcd7",
   "metadata": {},
   "outputs": [],
   "source": [
    "def safe_find_element(search_term, method, wait):\n",
    "    try:\n",
    "        match method:\n",
    "            case 'id':\n",
    "                element = wait.until(EC.presence_of_element_located((By.ID, search_term)))\n",
    "            case 'xpath':\n",
    "                element = wait.until(EC.presence_of_element_located((By.XPATH, search_term)))\n",
    "            case 'tagname':\n",
    "                element = wait.until(EC.presence_of_element_located((By.TAG_NAME, search_term)))\n",
    "    except Exception as e:\n",
    "        print(f\"Error: {e}\")\n",
    "        return None\n",
    "    return element"
   ]
  },
  {
   "cell_type": "code",
   "execution_count": 73,
   "id": "36b46e22-3081-4424-8562-0ea4bb79805b",
   "metadata": {},
   "outputs": [],
   "source": [
    "import time"
   ]
  },
  {
   "cell_type": "code",
   "execution_count": 101,
   "id": "08bb4c94-0304-4ac5-8f7d-f64756ab1926",
   "metadata": {},
   "outputs": [],
   "source": [
    "def scroll_down_to_bottom(driver, scroll_speed=50):\n",
    "    while True:\n",
    "        # Get the current scroll position\n",
    "        current_position = driver.execute_script(\"return window.pageYOffset || document.documentElement.scrollTop || document.body.scrollTop || 0;\")\n",
    "\n",
    "        # Scroll down by the specified speed\n",
    "        driver.execute_script(f\"window.scrollBy(0, {scroll_speed});\")\n",
    "        time.sleep(0.1)  # Adjust sleep time based on your preference\n",
    "\n",
    "        # Get the updated scroll position\n",
    "        updated_position = driver.execute_script(\"return window.pageYOffset || document.documentElement.scrollTop || document.body.scrollTop || 0;\")\n",
    "\n",
    "        # Check if the scroll position remains the same (indicating we are at the bottom)\n",
    "        if current_position == updated_position:\n",
    "            print(\"Reached the bottom of the page. Stopping scrolling.\")\n",
    "            break"
   ]
  },
  {
   "cell_type": "code",
   "execution_count": 102,
   "id": "b82c4e19-50bb-4018-8b77-28e1a44daea1",
   "metadata": {},
   "outputs": [
    {
     "name": "stdout",
     "output_type": "stream",
     "text": [
      "Reached the bottom of the page. Stopping scrolling.\n"
     ]
    }
   ],
   "source": [
    "scroll_down_to_bottom(driver, scroll_speed=50)  # You can adjust the scroll_speed"
   ]
  },
  {
   "cell_type": "code",
   "execution_count": 103,
   "id": "9d0075f8-32ae-48e6-9712-46855b161fa7",
   "metadata": {},
   "outputs": [],
   "source": [
    "products_container_xpath = '//*[@id=\"gallery-layout-container\"]'\n",
    "\n",
    "products_container = safe_find_element(products_container_xpath, 'xpath', wait)\n",
    "product_container_list = products_container.find_elements(By.XPATH, './div')"
   ]
  },
  {
   "cell_type": "code",
   "execution_count": 104,
   "id": "f14ea5a0-a1cf-4cef-b121-8c3cee686570",
   "metadata": {},
   "outputs": [],
   "source": [
    "product = product_container_list[12]"
   ]
  },
  {
   "cell_type": "code",
   "execution_count": 105,
   "id": "f426360b-db9c-42e8-99c7-bdeab4dac33d",
   "metadata": {},
   "outputs": [
    {
     "data": {
      "text/plain": [
       "'389654'"
      ]
     },
     "execution_count": 105,
     "metadata": {},
     "output_type": "execute_result"
    }
   ],
   "source": [
    "product.get_attribute(\"id\")"
   ]
  },
  {
   "cell_type": "code",
   "execution_count": 17,
   "id": "98f777f4-5968-4709-8de9-bdb0d3c90c63",
   "metadata": {},
   "outputs": [],
   "source": [
    "from selenium.common.exceptions import NoSuchElementException\n",
    "\n",
    "def get_element_text_by_xpath(parent_element, xpath):\n",
    "    try:\n",
    "        element = parent_element.find_element(By.XPATH, xpath)\n",
    "        return element.text\n",
    "    except NoSuchElementException:\n",
    "        return \"none\""
   ]
  },
  {
   "cell_type": "code",
   "execution_count": 106,
   "id": "1f614ace-7523-4f02-b0c5-4ec6524ab73e",
   "metadata": {},
   "outputs": [
    {
     "data": {
      "text/plain": [
       "'OREO'"
      ]
     },
     "execution_count": 106,
     "metadata": {},
     "output_type": "execute_result"
    }
   ],
   "source": [
    "brand = get_element_text_by_xpath(product, './/section/a/article/div[3]/span')\n",
    "brand"
   ]
  },
  {
   "cell_type": "code",
   "execution_count": 107,
   "id": "dc2c45fe-90e1-4508-ba73-a84dcc435a5f",
   "metadata": {},
   "outputs": [
    {
     "data": {
      "text/plain": [
       "'OREO\\nGalletitas Dulces Rellenas Con Crema Oreo 118 Gr\\n$650\\n-35%\\n$1.000\\nPrecio regular: $8.474,58 x kg\\nAgregar'"
      ]
     },
     "execution_count": 107,
     "metadata": {},
     "output_type": "execute_result"
    }
   ],
   "source": [
    "product.text"
   ]
  },
  {
   "cell_type": "code",
   "execution_count": 108,
   "id": "1d7824e9-beb0-4e5a-832d-52a96c6de96f",
   "metadata": {},
   "outputs": [
    {
     "data": {
      "text/plain": [
       "<selenium.webdriver.remote.webelement.WebElement (session=\"fe0533740d3e640a5fe2a87803eb0520\", element=\"D7328E589E13F5F0322C1A48DCA50209_element_155\")>"
      ]
     },
     "execution_count": 108,
     "metadata": {},
     "output_type": "execute_result"
    }
   ],
   "source": [
    "discount = product.find_element(By.XPATH, './/section/a/article/div[5]/div/div/div/div[1]/div/span/div[2]/div/span')\n",
    "discount"
   ]
  },
  {
   "cell_type": "code",
   "execution_count": 109,
   "id": "2a702625-d26c-4542-813f-74752d2939c7",
   "metadata": {},
   "outputs": [
    {
     "data": {
      "text/plain": [
       "'-35%'"
      ]
     },
     "execution_count": 109,
     "metadata": {},
     "output_type": "execute_result"
    }
   ],
   "source": [
    "discount.text"
   ]
  },
  {
   "cell_type": "code",
   "execution_count": 110,
   "id": "218fb3fa-f919-45a5-9b67-a8a2aa5eba0f",
   "metadata": {},
   "outputs": [
    {
     "data": {
      "text/plain": [
       "'$1.000'"
      ]
     },
     "execution_count": 110,
     "metadata": {},
     "output_type": "execute_result"
    }
   ],
   "source": [
    "original_price = get_element_text_by_xpath(product, './/section/a/article/div[5]/div/div/div/div[1]/div/div[2]')\n",
    "original_price"
   ]
  },
  {
   "cell_type": "code",
   "execution_count": null,
   "id": "5ce58744-8ed1-47d9-b075-a4f5ac89efa9",
   "metadata": {},
   "outputs": [],
   "source": []
  },
  {
   "cell_type": "code",
   "execution_count": null,
   "id": "12229ec6-1e3f-47c6-8593-684f9fe56efd",
   "metadata": {},
   "outputs": [],
   "source": []
  },
  {
   "cell_type": "code",
   "execution_count": null,
   "id": "7d5e9023-b61d-4284-9f79-117002e17189",
   "metadata": {},
   "outputs": [],
   "source": []
  }
 ],
 "metadata": {
  "kernelspec": {
   "display_name": "Python 3 (ipykernel)",
   "language": "python",
   "name": "python3"
  },
  "language_info": {
   "codemirror_mode": {
    "name": "ipython",
    "version": 3
   },
   "file_extension": ".py",
   "mimetype": "text/x-python",
   "name": "python",
   "nbconvert_exporter": "python",
   "pygments_lexer": "ipython3",
   "version": "3.11.6"
  }
 },
 "nbformat": 4,
 "nbformat_minor": 5
}
